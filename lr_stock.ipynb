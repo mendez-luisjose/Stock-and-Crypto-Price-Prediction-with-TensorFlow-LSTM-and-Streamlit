{
 "cells": [
  {
   "cell_type": "code",
   "execution_count": 222,
   "metadata": {},
   "outputs": [],
   "source": [
    "import pandas as pd\n",
    "import matplotlib.pyplot as plt\n",
    "import xgboost as xgb\n",
    "import datetime as dt\n",
    "import yfinance as yf\n",
    "from sklearn.model_selection import train_test_split\n",
    "from sklearn.compose import ColumnTransformer\n",
    "from sklearn.preprocessing import StandardScaler"
   ]
  },
  {
   "cell_type": "code",
   "execution_count": 223,
   "metadata": {},
   "outputs": [
    {
     "name": "stdout",
     "output_type": "stream",
     "text": [
      "[*********************100%***********************]  1 of 1 completed\n"
     ]
    }
   ],
   "source": [
    "company = 'AAPL'\n",
    "\n",
    "start = dt.datetime(2012,1,1)\n",
    "end = dt.datetime.now()\n",
    "\n",
    "data = yf.download(company, start , end)"
   ]
  },
  {
   "cell_type": "code",
   "execution_count": 224,
   "metadata": {},
   "outputs": [
    {
     "data": {
      "text/html": [
       "<div>\n",
       "<style scoped>\n",
       "    .dataframe tbody tr th:only-of-type {\n",
       "        vertical-align: middle;\n",
       "    }\n",
       "\n",
       "    .dataframe tbody tr th {\n",
       "        vertical-align: top;\n",
       "    }\n",
       "\n",
       "    .dataframe thead th {\n",
       "        text-align: right;\n",
       "    }\n",
       "</style>\n",
       "<table border=\"1\" class=\"dataframe\">\n",
       "  <thead>\n",
       "    <tr style=\"text-align: right;\">\n",
       "      <th></th>\n",
       "      <th>Open</th>\n",
       "      <th>High</th>\n",
       "      <th>Low</th>\n",
       "      <th>Close</th>\n",
       "      <th>Adj Close</th>\n",
       "      <th>Volume</th>\n",
       "    </tr>\n",
       "    <tr>\n",
       "      <th>Date</th>\n",
       "      <th></th>\n",
       "      <th></th>\n",
       "      <th></th>\n",
       "      <th></th>\n",
       "      <th></th>\n",
       "      <th></th>\n",
       "    </tr>\n",
       "  </thead>\n",
       "  <tbody>\n",
       "    <tr>\n",
       "      <th>2012-01-03</th>\n",
       "      <td>14.621429</td>\n",
       "      <td>14.732143</td>\n",
       "      <td>14.607143</td>\n",
       "      <td>14.686786</td>\n",
       "      <td>12.482926</td>\n",
       "      <td>302220800</td>\n",
       "    </tr>\n",
       "    <tr>\n",
       "      <th>2012-01-04</th>\n",
       "      <td>14.642857</td>\n",
       "      <td>14.810000</td>\n",
       "      <td>14.617143</td>\n",
       "      <td>14.765714</td>\n",
       "      <td>12.550012</td>\n",
       "      <td>260022000</td>\n",
       "    </tr>\n",
       "    <tr>\n",
       "      <th>2012-01-05</th>\n",
       "      <td>14.819643</td>\n",
       "      <td>14.948214</td>\n",
       "      <td>14.738214</td>\n",
       "      <td>14.929643</td>\n",
       "      <td>12.689339</td>\n",
       "      <td>271269600</td>\n",
       "    </tr>\n",
       "    <tr>\n",
       "      <th>2012-01-06</th>\n",
       "      <td>14.991786</td>\n",
       "      <td>15.098214</td>\n",
       "      <td>14.972143</td>\n",
       "      <td>15.085714</td>\n",
       "      <td>12.821992</td>\n",
       "      <td>318292800</td>\n",
       "    </tr>\n",
       "    <tr>\n",
       "      <th>2012-01-09</th>\n",
       "      <td>15.196429</td>\n",
       "      <td>15.276786</td>\n",
       "      <td>15.048214</td>\n",
       "      <td>15.061786</td>\n",
       "      <td>12.801656</td>\n",
       "      <td>394024400</td>\n",
       "    </tr>\n",
       "    <tr>\n",
       "      <th>...</th>\n",
       "      <td>...</td>\n",
       "      <td>...</td>\n",
       "      <td>...</td>\n",
       "      <td>...</td>\n",
       "      <td>...</td>\n",
       "      <td>...</td>\n",
       "    </tr>\n",
       "    <tr>\n",
       "      <th>2023-05-26</th>\n",
       "      <td>173.320007</td>\n",
       "      <td>175.770004</td>\n",
       "      <td>173.110001</td>\n",
       "      <td>175.429993</td>\n",
       "      <td>175.429993</td>\n",
       "      <td>54835000</td>\n",
       "    </tr>\n",
       "    <tr>\n",
       "      <th>2023-05-30</th>\n",
       "      <td>176.960007</td>\n",
       "      <td>178.990005</td>\n",
       "      <td>176.570007</td>\n",
       "      <td>177.300003</td>\n",
       "      <td>177.300003</td>\n",
       "      <td>55964400</td>\n",
       "    </tr>\n",
       "    <tr>\n",
       "      <th>2023-05-31</th>\n",
       "      <td>177.330002</td>\n",
       "      <td>179.350006</td>\n",
       "      <td>176.759995</td>\n",
       "      <td>177.250000</td>\n",
       "      <td>177.250000</td>\n",
       "      <td>99625300</td>\n",
       "    </tr>\n",
       "    <tr>\n",
       "      <th>2023-06-01</th>\n",
       "      <td>177.699997</td>\n",
       "      <td>180.119995</td>\n",
       "      <td>176.929993</td>\n",
       "      <td>180.089996</td>\n",
       "      <td>180.089996</td>\n",
       "      <td>68901800</td>\n",
       "    </tr>\n",
       "    <tr>\n",
       "      <th>2023-06-02</th>\n",
       "      <td>181.029999</td>\n",
       "      <td>181.779999</td>\n",
       "      <td>179.259995</td>\n",
       "      <td>180.949997</td>\n",
       "      <td>180.949997</td>\n",
       "      <td>61945900</td>\n",
       "    </tr>\n",
       "  </tbody>\n",
       "</table>\n",
       "<p>2873 rows × 6 columns</p>\n",
       "</div>"
      ],
      "text/plain": [
       "                  Open        High         Low       Close   Adj Close  \\\n",
       "Date                                                                     \n",
       "2012-01-03   14.621429   14.732143   14.607143   14.686786   12.482926   \n",
       "2012-01-04   14.642857   14.810000   14.617143   14.765714   12.550012   \n",
       "2012-01-05   14.819643   14.948214   14.738214   14.929643   12.689339   \n",
       "2012-01-06   14.991786   15.098214   14.972143   15.085714   12.821992   \n",
       "2012-01-09   15.196429   15.276786   15.048214   15.061786   12.801656   \n",
       "...                ...         ...         ...         ...         ...   \n",
       "2023-05-26  173.320007  175.770004  173.110001  175.429993  175.429993   \n",
       "2023-05-30  176.960007  178.990005  176.570007  177.300003  177.300003   \n",
       "2023-05-31  177.330002  179.350006  176.759995  177.250000  177.250000   \n",
       "2023-06-01  177.699997  180.119995  176.929993  180.089996  180.089996   \n",
       "2023-06-02  181.029999  181.779999  179.259995  180.949997  180.949997   \n",
       "\n",
       "               Volume  \n",
       "Date                   \n",
       "2012-01-03  302220800  \n",
       "2012-01-04  260022000  \n",
       "2012-01-05  271269600  \n",
       "2012-01-06  318292800  \n",
       "2012-01-09  394024400  \n",
       "...               ...  \n",
       "2023-05-26   54835000  \n",
       "2023-05-30   55964400  \n",
       "2023-05-31   99625300  \n",
       "2023-06-01   68901800  \n",
       "2023-06-02   61945900  \n",
       "\n",
       "[2873 rows x 6 columns]"
      ]
     },
     "execution_count": 224,
     "metadata": {},
     "output_type": "execute_result"
    }
   ],
   "source": [
    "data"
   ]
  },
  {
   "cell_type": "code",
   "execution_count": 225,
   "metadata": {},
   "outputs": [
    {
     "data": {
      "text/plain": [
       "<Axes: xlabel='Date'>"
      ]
     },
     "execution_count": 225,
     "metadata": {},
     "output_type": "execute_result"
    },
    {
     "data": {
      "image/png": "[encoded data removed]",
      "text/plain": [
       "<Figure size 640x480 with 1 Axes>"
      ]
     },
     "metadata": {},
     "output_type": "display_data"
    }
   ],
   "source": [
    "data[\"Close\"].plot()"
   ]
  },
  {
   "cell_type": "code",
   "execution_count": 226,
   "metadata": {},
   "outputs": [],
   "source": [
    "X = [\"Open\", \"Volume\"]\n",
    "y = \"Close\""
   ]
  },
  {
   "cell_type": "code",
   "execution_count": 227,
   "metadata": {},
   "outputs": [],
   "source": [
    "X_Train, X_Test, Y_Train, Y_Test = train_test_split(data[X], data[y], test_size=0.2, random_state=100)\n",
    "\n",
    "numerical_features = data[X].select_dtypes(include=['float64', 'int64'])\n",
    "\n",
    "numerical_columns = numerical_features.columns\n",
    "\n",
    "ct = ColumnTransformer([(\"only numeric\", StandardScaler(), numerical_columns)], remainder='passthrough')\n",
    "\n",
    "X_Train = ct.fit_transform(X_Train)\n",
    "X_Test = ct.transform(X_Test)"
   ]
  },
  {
   "cell_type": "code",
   "execution_count": 228,
   "metadata": {},
   "outputs": [],
   "source": [
    "model = xgb.XGBRegressor()"
   ]
  },
  {
   "cell_type": "code",
   "execution_count": 229,
   "metadata": {},
   "outputs": [
    {
     "data": {
      "text/html": [
       "<style>#sk-container-id-13 {color: black;background-color: white;}#sk-container-id-13 pre{padding: 0;}#sk-container-id-13 div.sk-toggleable {background-color: white;}#sk-container-id-13 label.sk-toggleable__label {cursor: pointer;display: block;width: 100%;margin-bottom: 0;padding: 0.3em;box-sizing: border-box;text-align: center;}#sk-container-id-13 label.sk-toggleable__label-arrow:before {content: \"▸\";float: left;margin-right: 0.25em;color: #696969;}#sk-container-id-13 label.sk-toggleable__label-arrow:hover:before {color: black;}#sk-container-id-13 div.sk-estimator:hover label.sk-toggleable__label-arrow:before {color: black;}#sk-container-id-13 div.sk-toggleable__content {max-height: 0;max-width: 0;overflow: hidden;text-align: left;background-color: #f0f8ff;}#sk-container-id-13 div.sk-toggleable__content pre {margin: 0.2em;color: black;border-radius: 0.25em;background-color: #f0f8ff;}#sk-container-id-13 input.sk-toggleable__control:checked~div.sk-toggleable__content {max-height: 200px;max-width: 100%;overflow: auto;}#sk-container-id-13 input.sk-toggleable__control:checked~label.sk-toggleable__label-arrow:before {content: \"▾\";}#sk-container-id-13 div.sk-estimator input.sk-toggleable__control:checked~label.sk-toggleable__label {background-color: #d4ebff;}#sk-container-id-13 div.sk-label input.sk-toggleable__control:checked~label.sk-toggleable__label {background-color: #d4ebff;}#sk-container-id-13 input.sk-hidden--visually {border: 0;clip: rect(1px 1px 1px 1px);clip: rect(1px, 1px, 1px, 1px);height: 1px;margin: -1px;overflow: hidden;padding: 0;position: absolute;width: 1px;}#sk-container-id-13 div.sk-estimator {font-family: monospace;background-color: #f0f8ff;border: 1px dotted black;border-radius: 0.25em;box-sizing: border-box;margin-bottom: 0.5em;}#sk-container-id-13 div.sk-estimator:hover {background-color: #d4ebff;}#sk-container-id-13 div.sk-parallel-item::after {content: \"\";width: 100%;border-bottom: 1px solid gray;flex-grow: 1;}#sk-container-id-13 div.sk-label:hover label.sk-toggleable__label {background-color: #d4ebff;}#sk-container-id-13 div.sk-serial::before {content: \"\";position: absolute;border-left: 1px solid gray;box-sizing: border-box;top: 0;bottom: 0;left: 50%;z-index: 0;}#sk-container-id-13 div.sk-serial {display: flex;flex-direction: column;align-items: center;background-color: white;padding-right: 0.2em;padding-left: 0.2em;position: relative;}#sk-container-id-13 div.sk-item {position: relative;z-index: 1;}#sk-container-id-13 div.sk-parallel {display: flex;align-items: stretch;justify-content: center;background-color: white;position: relative;}#sk-container-id-13 div.sk-item::before, #sk-container-id-13 div.sk-parallel-item::before {content: \"\";position: absolute;border-left: 1px solid gray;box-sizing: border-box;top: 0;bottom: 0;left: 50%;z-index: -1;}#sk-container-id-13 div.sk-parallel-item {display: flex;flex-direction: column;z-index: 1;position: relative;background-color: white;}#sk-container-id-13 div.sk-parallel-item:first-child::after {align-self: flex-end;width: 50%;}#sk-container-id-13 div.sk-parallel-item:last-child::after {align-self: flex-start;width: 50%;}#sk-container-id-13 div.sk-parallel-item:only-child::after {width: 0;}#sk-container-id-13 div.sk-dashed-wrapped {border: 1px dashed gray;margin: 0 0.4em 0.5em 0.4em;box-sizing: border-box;padding-bottom: 0.4em;background-color: white;}#sk-container-id-13 div.sk-label label {font-family: monospace;font-weight: bold;display: inline-block;line-height: 1.2em;}#sk-container-id-13 div.sk-label-container {text-align: center;}#sk-container-id-13 div.sk-container {/* jupyter's `normalize.less` sets `[hidden] { display: none; }` but bootstrap.min.css set `[hidden] { display: none !important; }` so we also need the `!important` here to be able to override the default hidden behavior on the sphinx rendered scikit-learn.org. See: https://github.com/scikit-learn/scikit-learn/issues/21755 */display: inline-block !important;position: relative;}#sk-container-id-13 div.sk-text-repr-fallback {display: none;}</style><div id=\"sk-container-id-13\" class=\"sk-top-container\"><div class=\"sk-text-repr-fallback\"><pre>XGBRegressor(base_score=None, booster=None, callbacks=None,\n",
       "             colsample_bylevel=None, colsample_bynode=None,\n",
       "             colsample_bytree=None, early_stopping_rounds=None,\n",
       "             enable_categorical=False, eval_metric=None, feature_types=None,\n",
       "             gamma=None, gpu_id=None, grow_policy=None, importance_type=None,\n",
       "             interaction_constraints=None, learning_rate=None, max_bin=None,\n",
       "             max_cat_threshold=None, max_cat_to_onehot=None,\n",
       "             max_delta_step=None, max_depth=None, max_leaves=None,\n",
       "             min_child_weight=None, missing=nan, monotone_constraints=None,\n",
       "             n_estimators=100, n_jobs=None, num_parallel_tree=None,\n",
       "             predictor=None, random_state=None, ...)</pre><b>In a Jupyter environment, please rerun this cell to show the HTML representation or trust the notebook. <br />On GitHub, the HTML representation is unable to render, please try loading this page with nbviewer.org.</b></div><div class=\"sk-container\" hidden><div class=\"sk-item\"><div class=\"sk-estimator sk-toggleable\"><input class=\"sk-toggleable__control sk-hidden--visually\" id=\"sk-estimator-id-13\" type=\"checkbox\" checked><label for=\"sk-estimator-id-13\" class=\"sk-toggleable__label sk-toggleable__label-arrow\">XGBRegressor</label><div class=\"sk-toggleable__content\"><pre>XGBRegressor(base_score=None, booster=None, callbacks=None,\n",
       "             colsample_bylevel=None, colsample_bynode=None,\n",
       "             colsample_bytree=None, early_stopping_rounds=None,\n",
       "             enable_categorical=False, eval_metric=None, feature_types=None,\n",
       "             gamma=None, gpu_id=None, grow_policy=None, importance_type=None,\n",
       "             interaction_constraints=None, learning_rate=None, max_bin=None,\n",
       "             max_cat_threshold=None, max_cat_to_onehot=None,\n",
       "             max_delta_step=None, max_depth=None, max_leaves=None,\n",
       "             min_child_weight=None, missing=nan, monotone_constraints=None,\n",
       "             n_estimators=100, n_jobs=None, num_parallel_tree=None,\n",
       "             predictor=None, random_state=None, ...)</pre></div></div></div></div></div>"
      ],
      "text/plain": [
       "XGBRegressor(base_score=None, booster=None, callbacks=None,\n",
       "             colsample_bylevel=None, colsample_bynode=None,\n",
       "             colsample_bytree=None, early_stopping_rounds=None,\n",
       "             enable_categorical=False, eval_metric=None, feature_types=None,\n",
       "             gamma=None, gpu_id=None, grow_policy=None, importance_type=None,\n",
       "             interaction_constraints=None, learning_rate=None, max_bin=None,\n",
       "             max_cat_threshold=None, max_cat_to_onehot=None,\n",
       "             max_delta_step=None, max_depth=None, max_leaves=None,\n",
       "             min_child_weight=None, missing=nan, monotone_constraints=None,\n",
       "             n_estimators=100, n_jobs=None, num_parallel_tree=None,\n",
       "             predictor=None, random_state=None, ...)"
      ]
     },
     "execution_count": 229,
     "metadata": {},
     "output_type": "execute_result"
    }
   ],
   "source": [
    "model.fit(X_Train, Y_Train)"
   ]
  },
  {
   "cell_type": "code",
   "execution_count": 230,
   "metadata": {},
   "outputs": [
    {
     "name": "stdout",
     "output_type": "stream",
     "text": [
      "[ 53.120987  21.7776    89.76342  119.733376  27.705803  37.458794\n",
      "  26.033438  65.89111  146.05475   55.288116 167.01248  114.46539\n",
      "  28.291155 133.72092   15.017595  19.88413   18.018396  36.37813\n",
      "  61.89903  134.55298   44.504326 131.52397   21.76494   24.618172\n",
      "  17.683498 108.65903   43.057934 169.2138    15.111707  26.500525\n",
      "  18.338392 148.85886   94.170845 110.188995  56.930798  24.699635\n",
      "  42.143055  19.888535  20.960445  20.939806 116.58462   39.85628\n",
      "  40.89519   42.599297  20.600746 133.83817   23.941196  28.29139\n",
      "  42.716667  33.592236 134.61539  163.28937   18.782812  37.07426\n",
      "  43.45848   45.59603   15.515691  21.254866  24.013412 125.4819\n",
      "  55.297195  42.147797  39.76552   24.96655  171.19899   28.577124\n",
      "  21.743454  30.12637   17.504473  16.34198   39.101578  22.140665\n",
      "  42.64256   65.09853  158.83202   44.826153 149.66481   48.27725\n",
      " 163.1768   142.54727   15.378462  66.887024  37.244164  15.849977\n",
      "  16.359667  79.28888   63.073643 134.25075   50.822697  29.337498\n",
      "  52.26987  155.16187   23.43097   19.91326   38.95721   26.978369\n",
      "  18.846033  42.106247  28.631227  36.42718  145.9994    39.821754\n",
      "  38.307762 112.89831   15.067432  20.903574 141.35867  127.89805\n",
      "  44.09035  118.453316  23.84759  122.005844 150.20297   28.437895\n",
      "  55.7379    18.093962  18.83265   35.588287  61.022522  15.079821\n",
      "  19.324701  30.421013  28.368408 148.11772   21.965597  14.900021\n",
      " 130.50449   18.590149  27.251692 160.16663   21.26677   42.06511\n",
      "  55.856853  48.017677  96.80917  147.59851   50.242035  29.50167\n",
      "  45.875427  90.89248   33.823635 149.34348   17.93967   19.338661\n",
      "  36.384445  22.901146  74.53583   39.10134   23.965939  15.410189\n",
      "  28.500853  23.968395  24.038126  34.800255  27.282225  15.410189\n",
      " 130.7818    19.338661  17.541708  28.368408  15.680503  27.971298\n",
      " 110.72768   75.5307    28.148342  47.42844   48.47057   23.895557\n",
      "  45.820038 160.96971  155.73715   55.629967  18.093962 171.9973\n",
      " 130.16286  142.64073   16.3494   157.29382   20.960445  45.868526\n",
      " 154.46228   44.504475  24.480862  55.262558  47.237854  79.30383\n",
      "  15.410189  44.47361  156.30957   29.864197  15.858395  21.502926\n",
      " 151.417     79.81301  147.88136   44.211494  25.747816  25.039787\n",
      "  15.34545   18.338392  53.152126  16.31377   28.249136  26.63505\n",
      "  18.353111  23.704872  26.996758 177.27142   23.362099  44.418194\n",
      "  23.497606  29.17338   65.582405  71.89614   28.45194   19.349958\n",
      "  36.034836  28.52672  131.76959   29.444672  32.563732  32.672592\n",
      "  17.40693   20.950178  55.460094  19.387194  42.166687  17.600677\n",
      "  31.70124  155.17659  126.1387    36.092793  30.05449   43.38628\n",
      "  31.836866  27.425348 126.27174   15.035706  25.883078  20.950178\n",
      " 168.52266  159.70628   31.458838  28.576475 124.22733   50.410454\n",
      "  47.07172  142.47644   79.715614  37.650154  19.945406  29.344631\n",
      "  19.365997  71.28646   24.656363  17.9725   141.11212   78.12114\n",
      " 152.93138  151.70512   44.540432 125.359566  27.751324  29.132183\n",
      " 156.3306    17.46919   25.808424  86.783264 161.05035   14.998221\n",
      "  16.593466 158.4535    27.578856 121.18434   37.706863  53.304474\n",
      "  21.865662  39.677486  43.094566  66.764     15.321476  48.96647\n",
      "  66.9985   151.58278   80.80425   19.591076  40.89519  154.1743\n",
      "  20.857578  28.380999  51.457638  22.912657 149.58336   23.862225\n",
      "  23.943823  18.754526 136.96548   48.13414   20.903574 153.84201\n",
      " 163.7352    25.782475  43.17355  112.14147   34.824924  15.908947\n",
      "  52.054966  43.089355  30.095112  23.967936  31.91688   15.843851\n",
      " 171.6115    21.024248  23.985012  24.656775 146.09416   15.83646\n",
      "  24.049278 143.80444  114.9315    44.51429   23.9453   168.62459\n",
      "  24.609232  16.672352  15.994866  28.142305 111.548935 131.69334\n",
      "  44.438953 119.79848   54.623817  38.024445 174.64658  173.28673\n",
      "  27.151438 137.19244   21.874573  29.715046  50.58995   23.933584\n",
      "  23.863882  25.086725  74.55399   36.39297   18.393738 157.23782\n",
      "  28.124643  19.912107  62.625     34.550243  31.71775   26.532219\n",
      " 140.98671   22.05544   79.715614  54.95775   47.458702  39.76194\n",
      "  23.9453   142.81964  130.23833   23.93264   18.813501 160.66545\n",
      "  16.477415  35.238125  42.639183 161.3505    27.162367  29.835224\n",
      "  20.60855  126.44058   22.10788   44.540432  40.52377   15.136714\n",
      "  40.76216  125.43902   78.082664  39.689236  19.338661 163.38477\n",
      "  38.069584  56.866333  28.358479  44.45616  137.23552  125.18194\n",
      "  39.4674   137.42598   37.650265  43.108303  44.826153  53.237667\n",
      " 165.23692  120.03871   37.879906 149.99586   15.430829  32.578865\n",
      "  24.77425   35.517673 146.30267  129.2349    17.939453  36.230732\n",
      " 135.91023   23.874737  26.931046  43.02973   31.8468   139.76923\n",
      " 166.96957  128.37932   27.932858  19.3373    94.92788   60.68756\n",
      "  28.307152 120.21892  120.245186  44.868294  31.805346  48.91648\n",
      "  24.652534  26.297432 145.90752   22.067165 175.91522   27.046362\n",
      "  15.878528 159.75969  134.33635  131.13226   26.619917 173.88249\n",
      "  44.794224  18.146137 133.45926   15.245776 165.04036   39.319542\n",
      " 163.44539   38.23133   51.557632  43.16612   45.715874  31.616943\n",
      " 149.62749  140.90265   18.83265  176.07666   94.16698   47.148674\n",
      "  24.033575  62.689854  18.782812  55.465862  44.438953 140.70201\n",
      "  15.028246 122.83472   19.945406  29.551382  22.911518  29.691664\n",
      " 172.4395    57.935143 121.72231   26.46858   42.716667  33.22346\n",
      "  25.016523  19.363342  65.910385  47.22545   17.600677  35.5098\n",
      "  31.637547  27.167963  18.853289  18.701735 134.67986  154.3528\n",
      "  19.888535 151.43607   26.902771 152.28123   31.146515  24.849352\n",
      "  50.593777  15.102112  23.468435  29.74325  172.28311   22.889421\n",
      "  47.296776  24.873     20.693953  49.163643  18.811213  66.93155\n",
      "  28.391836  15.858395  21.191738  37.195084  42.60929   56.977077\n",
      " 173.00104   19.340246 118.28535   28.396132  52.10049   34.576885\n",
      "  19.264687 167.16377   44.103085  21.74293   27.504745 149.39006\n",
      "  61.134087  24.013412  24.010956  35.526417  27.909372  39.02914\n",
      "  26.7293    44.24771   33.43859   25.883493  24.011885  28.246168\n",
      " 127.83927   78.24881  173.07327   21.965597  47.023586  49.10195\n",
      "  30.058578  27.208437  66.96347  117.13503  134.17628  122.8277\n",
      "  16.349335 165.09006   29.5983    28.291155  30.031725  24.652752\n",
      "  44.466183  19.591076  31.51948   18.515038  18.853289 153.83276\n",
      "  23.4759   169.43723  175.02538  150.31056  177.14493   78.93425\n",
      "  20.572317 146.61855   25.158318  56.276295  78.51631   54.33947\n",
      " 170.69675  146.1083    24.992676  17.607933  19.300121]\n"
     ]
    }
   ],
   "source": [
    "pred = model.predict(X_Test)\n",
    "\n",
    "print(pred)"
   ]
  },
  {
   "cell_type": "code",
   "execution_count": 231,
   "metadata": {},
   "outputs": [],
   "source": [
    "accuracy = model.score(X_Test, Y_Test)"
   ]
  },
  {
   "cell_type": "code",
   "execution_count": 232,
   "metadata": {},
   "outputs": [
    {
     "data": {
      "text/plain": [
       "0.999052014956626"
      ]
     },
     "execution_count": 232,
     "metadata": {},
     "output_type": "execute_result"
    }
   ],
   "source": [
    "accuracy"
   ]
  },
  {
   "cell_type": "code",
   "execution_count": 233,
   "metadata": {},
   "outputs": [
    {
     "data": {
      "image/png": "[encoded data removed]",
      "text/plain": [
       "<Figure size 640x480 with 1 Axes>"
      ]
     },
     "metadata": {},
     "output_type": "display_data"
    }
   ],
   "source": [
    "plt.plot(data[\"Close\"], label = f\"Actual {company} Price\", color=\"black\")\n",
    "plt.scatter(Y_Test.index, pred, label = f\"Predicted {company} Price\", color=\"green\", linewidths=1)\n",
    "plt.legend()\n",
    "plt.show()"
   ]
  },
  {
   "cell_type": "code",
   "execution_count": 234,
   "metadata": {},
   "outputs": [],
   "source": [
    "last_date = data.iloc[-1:]"
   ]
  },
  {
   "cell_type": "code",
   "execution_count": 235,
   "metadata": {},
   "outputs": [
    {
     "data": {
      "text/html": [
       "<div>\n",
       "<style scoped>\n",
       "    .dataframe tbody tr th:only-of-type {\n",
       "        vertical-align: middle;\n",
       "    }\n",
       "\n",
       "    .dataframe tbody tr th {\n",
       "        vertical-align: top;\n",
       "    }\n",
       "\n",
       "    .dataframe thead th {\n",
       "        text-align: right;\n",
       "    }\n",
       "</style>\n",
       "<table border=\"1\" class=\"dataframe\">\n",
       "  <thead>\n",
       "    <tr style=\"text-align: right;\">\n",
       "      <th></th>\n",
       "      <th>Open</th>\n",
       "      <th>High</th>\n",
       "      <th>Low</th>\n",
       "      <th>Close</th>\n",
       "      <th>Adj Close</th>\n",
       "      <th>Volume</th>\n",
       "    </tr>\n",
       "    <tr>\n",
       "      <th>Date</th>\n",
       "      <th></th>\n",
       "      <th></th>\n",
       "      <th></th>\n",
       "      <th></th>\n",
       "      <th></th>\n",
       "      <th></th>\n",
       "    </tr>\n",
       "  </thead>\n",
       "  <tbody>\n",
       "    <tr>\n",
       "      <th>2023-06-02</th>\n",
       "      <td>181.029999</td>\n",
       "      <td>181.779999</td>\n",
       "      <td>179.259995</td>\n",
       "      <td>180.949997</td>\n",
       "      <td>180.949997</td>\n",
       "      <td>61945900</td>\n",
       "    </tr>\n",
       "  </tbody>\n",
       "</table>\n",
       "</div>"
      ],
      "text/plain": [
       "                  Open        High         Low       Close   Adj Close  \\\n",
       "Date                                                                     \n",
       "2023-06-02  181.029999  181.779999  179.259995  180.949997  180.949997   \n",
       "\n",
       "              Volume  \n",
       "Date                  \n",
       "2023-06-02  61945900  "
      ]
     },
     "execution_count": 235,
     "metadata": {},
     "output_type": "execute_result"
    }
   ],
   "source": [
    "last_date"
   ]
  },
  {
   "cell_type": "code",
   "execution_count": 236,
   "metadata": {},
   "outputs": [],
   "source": [
    "real_pred = ct.transform(last_date[X])"
   ]
  },
  {
   "cell_type": "code",
   "execution_count": 237,
   "metadata": {},
   "outputs": [
    {
     "data": {
      "text/plain": [
       "array([180.7526], dtype=float32)"
      ]
     },
     "execution_count": 237,
     "metadata": {},
     "output_type": "execute_result"
    }
   ],
   "source": [
    "model.predict(real_pred)"
   ]
  },
  {
   "cell_type": "code",
   "execution_count": 238,
   "metadata": {},
   "outputs": [],
   "source": [
    "import pickle as pkl\n",
    "\n",
    "pkl.dump(model, open(f\"{company}_lr_model.pkl\", \"wb\"))"
   ]
  },
  {
   "cell_type": "code",
   "execution_count": 239,
   "metadata": {},
   "outputs": [],
   "source": [
    "pkl.dump(ct, open(f\"{company}_lr_scaler.pkl\", \"wb\"))"
   ]
  }
 ],
 "metadata": {
  "kernelspec": {
   "display_name": "Python 3",
   "language": "python",
   "name": "python3"
  },
  "language_info": {
   "codemirror_mode": {
    "name": "ipython",
    "version": 3
   },
   "file_extension": ".py",
   "mimetype": "text/x-python",
   "name": "python",
   "nbconvert_exporter": "python",
   "pygments_lexer": "ipython3",
   "version": "3.10.9"
  },
  "orig_nbformat": 4
 },
 "nbformat": 4,
 "nbformat_minor": 2
}
