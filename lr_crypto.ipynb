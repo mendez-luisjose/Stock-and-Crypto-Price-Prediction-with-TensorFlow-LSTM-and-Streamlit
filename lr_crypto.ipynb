{
 "cells": [
  {
   "cell_type": "code",
   "execution_count": 19,
   "metadata": {},
   "outputs": [],
   "source": [
    "import pandas as pd\n",
    "import matplotlib.pyplot as plt\n",
    "import xgboost as xgb\n",
    "import datetime as dt\n",
    "import yfinance as yf\n",
    "from sklearn.model_selection import train_test_split\n",
    "from sklearn.compose import ColumnTransformer\n",
    "from sklearn.preprocessing import StandardScaler"
   ]
  },
  {
   "cell_type": "code",
   "execution_count": 20,
   "metadata": {},
   "outputs": [
    {
     "name": "stdout",
     "output_type": "stream",
     "text": [
      "[*********************100%***********************]  1 of 1 completed\n"
     ]
    }
   ],
   "source": [
    "crypto = 'BTC'\n",
    "currency = \"USD\"\n",
    "\n",
    "start = dt.datetime(2012,1,1)\n",
    "end = dt.datetime.now()\n",
    "\n",
    "data = yf.download(f\"{crypto}-{currency}\", start , end)"
   ]
  },
  {
   "cell_type": "code",
   "execution_count": 21,
   "metadata": {},
   "outputs": [
    {
     "data": {
      "text/html": [
       "<div>\n",
       "<style scoped>\n",
       "    .dataframe tbody tr th:only-of-type {\n",
       "        vertical-align: middle;\n",
       "    }\n",
       "\n",
       "    .dataframe tbody tr th {\n",
       "        vertical-align: top;\n",
       "    }\n",
       "\n",
       "    .dataframe thead th {\n",
       "        text-align: right;\n",
       "    }\n",
       "</style>\n",
       "<table border=\"1\" class=\"dataframe\">\n",
       "  <thead>\n",
       "    <tr style=\"text-align: right;\">\n",
       "      <th></th>\n",
       "      <th>Open</th>\n",
       "      <th>High</th>\n",
       "      <th>Low</th>\n",
       "      <th>Close</th>\n",
       "      <th>Adj Close</th>\n",
       "      <th>Volume</th>\n",
       "    </tr>\n",
       "    <tr>\n",
       "      <th>Date</th>\n",
       "      <th></th>\n",
       "      <th></th>\n",
       "      <th></th>\n",
       "      <th></th>\n",
       "      <th></th>\n",
       "      <th></th>\n",
       "    </tr>\n",
       "  </thead>\n",
       "  <tbody>\n",
       "    <tr>\n",
       "      <th>2014-09-17</th>\n",
       "      <td>465.864014</td>\n",
       "      <td>468.174011</td>\n",
       "      <td>452.421997</td>\n",
       "      <td>457.334015</td>\n",
       "      <td>457.334015</td>\n",
       "      <td>21056800</td>\n",
       "    </tr>\n",
       "    <tr>\n",
       "      <th>2014-09-18</th>\n",
       "      <td>456.859985</td>\n",
       "      <td>456.859985</td>\n",
       "      <td>413.104004</td>\n",
       "      <td>424.440002</td>\n",
       "      <td>424.440002</td>\n",
       "      <td>34483200</td>\n",
       "    </tr>\n",
       "    <tr>\n",
       "      <th>2014-09-19</th>\n",
       "      <td>424.102997</td>\n",
       "      <td>427.834991</td>\n",
       "      <td>384.532013</td>\n",
       "      <td>394.795990</td>\n",
       "      <td>394.795990</td>\n",
       "      <td>37919700</td>\n",
       "    </tr>\n",
       "    <tr>\n",
       "      <th>2014-09-20</th>\n",
       "      <td>394.673004</td>\n",
       "      <td>423.295990</td>\n",
       "      <td>389.882996</td>\n",
       "      <td>408.903992</td>\n",
       "      <td>408.903992</td>\n",
       "      <td>36863600</td>\n",
       "    </tr>\n",
       "    <tr>\n",
       "      <th>2014-09-21</th>\n",
       "      <td>408.084991</td>\n",
       "      <td>412.425995</td>\n",
       "      <td>393.181000</td>\n",
       "      <td>398.821014</td>\n",
       "      <td>398.821014</td>\n",
       "      <td>26580100</td>\n",
       "    </tr>\n",
       "    <tr>\n",
       "      <th>...</th>\n",
       "      <td>...</td>\n",
       "      <td>...</td>\n",
       "      <td>...</td>\n",
       "      <td>...</td>\n",
       "      <td>...</td>\n",
       "      <td>...</td>\n",
       "    </tr>\n",
       "    <tr>\n",
       "      <th>2023-06-01</th>\n",
       "      <td>27218.412109</td>\n",
       "      <td>27346.105469</td>\n",
       "      <td>26671.720703</td>\n",
       "      <td>26819.972656</td>\n",
       "      <td>26819.972656</td>\n",
       "      <td>14678970415</td>\n",
       "    </tr>\n",
       "    <tr>\n",
       "      <th>2023-06-02</th>\n",
       "      <td>26824.556641</td>\n",
       "      <td>27303.861328</td>\n",
       "      <td>26574.644531</td>\n",
       "      <td>27249.589844</td>\n",
       "      <td>27249.589844</td>\n",
       "      <td>14837415000</td>\n",
       "    </tr>\n",
       "    <tr>\n",
       "      <th>2023-06-03</th>\n",
       "      <td>27252.324219</td>\n",
       "      <td>27317.052734</td>\n",
       "      <td>26958.003906</td>\n",
       "      <td>27075.128906</td>\n",
       "      <td>27075.128906</td>\n",
       "      <td>8385597470</td>\n",
       "    </tr>\n",
       "    <tr>\n",
       "      <th>2023-06-04</th>\n",
       "      <td>27075.123047</td>\n",
       "      <td>27407.019531</td>\n",
       "      <td>26968.224609</td>\n",
       "      <td>27119.066406</td>\n",
       "      <td>27119.066406</td>\n",
       "      <td>9360912318</td>\n",
       "    </tr>\n",
       "    <tr>\n",
       "      <th>2023-06-05</th>\n",
       "      <td>27123.109375</td>\n",
       "      <td>27129.982422</td>\n",
       "      <td>25445.167969</td>\n",
       "      <td>25760.097656</td>\n",
       "      <td>25760.097656</td>\n",
       "      <td>21513292646</td>\n",
       "    </tr>\n",
       "  </tbody>\n",
       "</table>\n",
       "<p>3184 rows × 6 columns</p>\n",
       "</div>"
      ],
      "text/plain": [
       "                    Open          High           Low         Close  \\\n",
       "Date                                                                 \n",
       "2014-09-17    465.864014    468.174011    452.421997    457.334015   \n",
       "2014-09-18    456.859985    456.859985    413.104004    424.440002   \n",
       "2014-09-19    424.102997    427.834991    384.532013    394.795990   \n",
       "2014-09-20    394.673004    423.295990    389.882996    408.903992   \n",
       "2014-09-21    408.084991    412.425995    393.181000    398.821014   \n",
       "...                  ...           ...           ...           ...   \n",
       "2023-06-01  27218.412109  27346.105469  26671.720703  26819.972656   \n",
       "2023-06-02  26824.556641  27303.861328  26574.644531  27249.589844   \n",
       "2023-06-03  27252.324219  27317.052734  26958.003906  27075.128906   \n",
       "2023-06-04  27075.123047  27407.019531  26968.224609  27119.066406   \n",
       "2023-06-05  27123.109375  27129.982422  25445.167969  25760.097656   \n",
       "\n",
       "               Adj Close       Volume  \n",
       "Date                                   \n",
       "2014-09-17    457.334015     21056800  \n",
       "2014-09-18    424.440002     34483200  \n",
       "2014-09-19    394.795990     37919700  \n",
       "2014-09-20    408.903992     36863600  \n",
       "2014-09-21    398.821014     26580100  \n",
       "...                  ...          ...  \n",
       "2023-06-01  26819.972656  14678970415  \n",
       "2023-06-02  27249.589844  14837415000  \n",
       "2023-06-03  27075.128906   8385597470  \n",
       "2023-06-04  27119.066406   9360912318  \n",
       "2023-06-05  25760.097656  21513292646  \n",
       "\n",
       "[3184 rows x 6 columns]"
      ]
     },
     "execution_count": 21,
     "metadata": {},
     "output_type": "execute_result"
    }
   ],
   "source": [
    "data"
   ]
  },
  {
   "cell_type": "code",
   "execution_count": 22,
   "metadata": {},
   "outputs": [
    {
     "data": {
      "text/plain": [
       "<Axes: xlabel='Date'>"
      ]
     },
     "execution_count": 22,
     "metadata": {},
     "output_type": "execute_result"
    },
    {
     "data": {
      "image/png": "[encoded data removed]",
      "text/plain": [
       "<Figure size 640x480 with 1 Axes>"
      ]
     },
     "metadata": {},
     "output_type": "display_data"
    }
   ],
   "source": [
    "data[\"Close\"].plot()"
   ]
  },
  {
   "cell_type": "code",
   "execution_count": 23,
   "metadata": {},
   "outputs": [],
   "source": [
    "X = [\"Open\", \"Volume\"]\n",
    "y = \"Close\""
   ]
  },
  {
   "cell_type": "code",
   "execution_count": 24,
   "metadata": {},
   "outputs": [],
   "source": [
    "X_Train, X_Test, Y_Train, Y_Test = train_test_split(data[X], data[y], test_size=0.2, random_state=100)\n",
    "\n",
    "numerical_features = data[X].select_dtypes(include=['float64', 'int64'])\n",
    "\n",
    "numerical_columns = numerical_features.columns\n",
    "\n",
    "ct = ColumnTransformer([(\"only numeric\", StandardScaler(), numerical_columns)], remainder='passthrough')\n",
    "\n",
    "X_Train = ct.fit_transform(X_Train)\n",
    "X_Test = ct.transform(X_Test)"
   ]
  },
  {
   "cell_type": "code",
   "execution_count": 25,
   "metadata": {},
   "outputs": [],
   "source": [
    "model = xgb.XGBRegressor()"
   ]
  },
  {
   "cell_type": "code",
   "execution_count": 26,
   "metadata": {},
   "outputs": [
    {
     "data": {
      "text/html": [
       "<style>#sk-container-id-2 {color: black;background-color: white;}#sk-container-id-2 pre{padding: 0;}#sk-container-id-2 div.sk-toggleable {background-color: white;}#sk-container-id-2 label.sk-toggleable__label {cursor: pointer;display: block;width: 100%;margin-bottom: 0;padding: 0.3em;box-sizing: border-box;text-align: center;}#sk-container-id-2 label.sk-toggleable__label-arrow:before {content: \"▸\";float: left;margin-right: 0.25em;color: #696969;}#sk-container-id-2 label.sk-toggleable__label-arrow:hover:before {color: black;}#sk-container-id-2 div.sk-estimator:hover label.sk-toggleable__label-arrow:before {color: black;}#sk-container-id-2 div.sk-toggleable__content {max-height: 0;max-width: 0;overflow: hidden;text-align: left;background-color: #f0f8ff;}#sk-container-id-2 div.sk-toggleable__content pre {margin: 0.2em;color: black;border-radius: 0.25em;background-color: #f0f8ff;}#sk-container-id-2 input.sk-toggleable__control:checked~div.sk-toggleable__content {max-height: 200px;max-width: 100%;overflow: auto;}#sk-container-id-2 input.sk-toggleable__control:checked~label.sk-toggleable__label-arrow:before {content: \"▾\";}#sk-container-id-2 div.sk-estimator input.sk-toggleable__control:checked~label.sk-toggleable__label {background-color: #d4ebff;}#sk-container-id-2 div.sk-label input.sk-toggleable__control:checked~label.sk-toggleable__label {background-color: #d4ebff;}#sk-container-id-2 input.sk-hidden--visually {border: 0;clip: rect(1px 1px 1px 1px);clip: rect(1px, 1px, 1px, 1px);height: 1px;margin: -1px;overflow: hidden;padding: 0;position: absolute;width: 1px;}#sk-container-id-2 div.sk-estimator {font-family: monospace;background-color: #f0f8ff;border: 1px dotted black;border-radius: 0.25em;box-sizing: border-box;margin-bottom: 0.5em;}#sk-container-id-2 div.sk-estimator:hover {background-color: #d4ebff;}#sk-container-id-2 div.sk-parallel-item::after {content: \"\";width: 100%;border-bottom: 1px solid gray;flex-grow: 1;}#sk-container-id-2 div.sk-label:hover label.sk-toggleable__label {background-color: #d4ebff;}#sk-container-id-2 div.sk-serial::before {content: \"\";position: absolute;border-left: 1px solid gray;box-sizing: border-box;top: 0;bottom: 0;left: 50%;z-index: 0;}#sk-container-id-2 div.sk-serial {display: flex;flex-direction: column;align-items: center;background-color: white;padding-right: 0.2em;padding-left: 0.2em;position: relative;}#sk-container-id-2 div.sk-item {position: relative;z-index: 1;}#sk-container-id-2 div.sk-parallel {display: flex;align-items: stretch;justify-content: center;background-color: white;position: relative;}#sk-container-id-2 div.sk-item::before, #sk-container-id-2 div.sk-parallel-item::before {content: \"\";position: absolute;border-left: 1px solid gray;box-sizing: border-box;top: 0;bottom: 0;left: 50%;z-index: -1;}#sk-container-id-2 div.sk-parallel-item {display: flex;flex-direction: column;z-index: 1;position: relative;background-color: white;}#sk-container-id-2 div.sk-parallel-item:first-child::after {align-self: flex-end;width: 50%;}#sk-container-id-2 div.sk-parallel-item:last-child::after {align-self: flex-start;width: 50%;}#sk-container-id-2 div.sk-parallel-item:only-child::after {width: 0;}#sk-container-id-2 div.sk-dashed-wrapped {border: 1px dashed gray;margin: 0 0.4em 0.5em 0.4em;box-sizing: border-box;padding-bottom: 0.4em;background-color: white;}#sk-container-id-2 div.sk-label label {font-family: monospace;font-weight: bold;display: inline-block;line-height: 1.2em;}#sk-container-id-2 div.sk-label-container {text-align: center;}#sk-container-id-2 div.sk-container {/* jupyter's `normalize.less` sets `[hidden] { display: none; }` but bootstrap.min.css set `[hidden] { display: none !important; }` so we also need the `!important` here to be able to override the default hidden behavior on the sphinx rendered scikit-learn.org. See: https://github.com/scikit-learn/scikit-learn/issues/21755 */display: inline-block !important;position: relative;}#sk-container-id-2 div.sk-text-repr-fallback {display: none;}</style><div id=\"sk-container-id-2\" class=\"sk-top-container\"><div class=\"sk-text-repr-fallback\"><pre>XGBRegressor(base_score=None, booster=None, callbacks=None,\n",
       "             colsample_bylevel=None, colsample_bynode=None,\n",
       "             colsample_bytree=None, early_stopping_rounds=None,\n",
       "             enable_categorical=False, eval_metric=None, feature_types=None,\n",
       "             gamma=None, gpu_id=None, grow_policy=None, importance_type=None,\n",
       "             interaction_constraints=None, learning_rate=None, max_bin=None,\n",
       "             max_cat_threshold=None, max_cat_to_onehot=None,\n",
       "             max_delta_step=None, max_depth=None, max_leaves=None,\n",
       "             min_child_weight=None, missing=nan, monotone_constraints=None,\n",
       "             n_estimators=100, n_jobs=None, num_parallel_tree=None,\n",
       "             predictor=None, random_state=None, ...)</pre><b>In a Jupyter environment, please rerun this cell to show the HTML representation or trust the notebook. <br />On GitHub, the HTML representation is unable to render, please try loading this page with nbviewer.org.</b></div><div class=\"sk-container\" hidden><div class=\"sk-item\"><div class=\"sk-estimator sk-toggleable\"><input class=\"sk-toggleable__control sk-hidden--visually\" id=\"sk-estimator-id-2\" type=\"checkbox\" checked><label for=\"sk-estimator-id-2\" class=\"sk-toggleable__label sk-toggleable__label-arrow\">XGBRegressor</label><div class=\"sk-toggleable__content\"><pre>XGBRegressor(base_score=None, booster=None, callbacks=None,\n",
       "             colsample_bylevel=None, colsample_bynode=None,\n",
       "             colsample_bytree=None, early_stopping_rounds=None,\n",
       "             enable_categorical=False, eval_metric=None, feature_types=None,\n",
       "             gamma=None, gpu_id=None, grow_policy=None, importance_type=None,\n",
       "             interaction_constraints=None, learning_rate=None, max_bin=None,\n",
       "             max_cat_threshold=None, max_cat_to_onehot=None,\n",
       "             max_delta_step=None, max_depth=None, max_leaves=None,\n",
       "             min_child_weight=None, missing=nan, monotone_constraints=None,\n",
       "             n_estimators=100, n_jobs=None, num_parallel_tree=None,\n",
       "             predictor=None, random_state=None, ...)</pre></div></div></div></div></div>"
      ],
      "text/plain": [
       "XGBRegressor(base_score=None, booster=None, callbacks=None,\n",
       "             colsample_bylevel=None, colsample_bynode=None,\n",
       "             colsample_bytree=None, early_stopping_rounds=None,\n",
       "             enable_categorical=False, eval_metric=None, feature_types=None,\n",
       "             gamma=None, gpu_id=None, grow_policy=None, importance_type=None,\n",
       "             interaction_constraints=None, learning_rate=None, max_bin=None,\n",
       "             max_cat_threshold=None, max_cat_to_onehot=None,\n",
       "             max_delta_step=None, max_depth=None, max_leaves=None,\n",
       "             min_child_weight=None, missing=nan, monotone_constraints=None,\n",
       "             n_estimators=100, n_jobs=None, num_parallel_tree=None,\n",
       "             predictor=None, random_state=None, ...)"
      ]
     },
     "execution_count": 26,
     "metadata": {},
     "output_type": "execute_result"
    }
   ],
   "source": [
    "model.fit(X_Train, Y_Train)"
   ]
  },
  {
   "cell_type": "code",
   "execution_count": 27,
   "metadata": {},
   "outputs": [
    {
     "name": "stdout",
     "output_type": "stream",
     "text": [
      "[ 6129.664   25731.305     313.65347  1226.3969    276.11758   381.64484\n",
      "  7127.691     313.65347  3473.4045    589.1515   8133.4214  61344.484\n",
      " 44130.543    3670.584     644.84814 52571.926   16502.896    6506.711\n",
      "   381.64484  6665.2993   5844.528     644.84814   705.4021  56878.29\n",
      " 62292.98     9623.864     728.5218   3100.456     422.71985  8508.444\n",
      "   251.78036 10306.254   43317.844   29057.396    2571.4673   8958.897\n",
      "   422.71985 48663.39    10033.512    1226.3969    986.0699  17850.672\n",
      "  2205.8445   7464.3145  32194.5     10046.29     2345.82     3978.5178\n",
      "   454.54807 59305.168    4048.209   10196.984     379.03027  6908.4785\n",
      "  8605.768    6538.9243    454.54807  9963.252     276.11758   261.8788\n",
      " 11143.851     454.54807  5971.611     313.65347   261.8788   9425.784\n",
      "  9270.915    6554.93      614.6729   8784.633     261.8788  56751.84\n",
      " 26967.6      8301.567     431.6066    589.1515    355.42337   986.0699\n",
      " 45067.645   10454.353   22141.41     3487.4194  23394.242     261.8788\n",
      " 40212.047    8029.8833    614.6729    233.84409  6006.931     244.26135\n",
      "  4247.383   18416.426     301.0434  43485.387    7061.3833  36998.28\n",
      "   705.4021    349.91882 50794.41     6572.175     231.25952   349.91882\n",
      " 11450.53     1065.1039  18938.242   11705.403     705.4021   1226.3969\n",
      "  9287.974   19333.553    6108.534     244.26135 41539.88      237.70215\n",
      "   644.84814 16213.113     261.8788   3383.0488   9230.557   16247.615\n",
      "   377.04385 14073.664     454.54807  3683.288    8756.608   20293.734\n",
      "  1701.7203    242.63501 61630.35    15635.547   23628.643     242.63501\n",
      "   233.84409 32530.932    9124.731   16185.376    7701.5444    237.70215\n",
      "  7147.4434   8980.554   58297.68    37188.58     6750.568   22897.615\n",
      "   454.54807   227.18161  7992.5327   6670.889    1159.8458  16442.592\n",
      "  9027.987   57322.55      428.13712 49360.33     7251.411   16517.684\n",
      "  1171.0596  55994.71      431.6066  38735.797     301.0434  18938.242\n",
      " 48611.348    5874.5146   6994.335   11321.77      418.13174   427.5215\n",
      "  2504.468    4572.9507  41583.89     9140.86      422.71985  9626.695\n",
      "   237.70215  2594.2517    230.69675  7444.4175   8226.922    3854.4072\n",
      " 45041.34     9601.334    4231.276   30227.045     377.04385 35039.387\n",
      " 31670.377   17067.416   16517.684   60752.52     3980.26     2701.7227\n",
      " 29799.77     1061.9567  21094.064    9950.593    9519.607   26818.852\n",
      "  4048.209   23375.23     7464.9014  40832.023     276.11758  4589.0576\n",
      " 10835.189    2571.4673   8152.3726   1065.1039  23372.018   32317.338\n",
      "  8095.761   22017.113    7535.589     431.6066    276.11758 19130.67\n",
      " 30175.125    9436.434     766.70654 23593.646     355.42337   511.6991\n",
      "   589.1515   1730.9585  27245.148   29669.232    8680.098   23038.36\n",
      "  3492.0144    422.71985  3918.971    6755.3     57394.227    1171.0596\n",
      "  3462.15      459.3782    301.0434   9821.597    3899.0154  21032.143\n",
      "   411.76804 41127.965    6129.664    4589.0576    454.54807 17142.104\n",
      " 42840.625   57248.125     934.8805  22930.342    5530.71     1288.0221\n",
      "   422.71985   459.3782  60027.24     3753.431    8991.709   46018.15\n",
      "  6458.536    7581.104   42631.395    6367.522   38816.324    7209.906\n",
      "  1171.0596    301.0434    377.04385 61665.4      2366.8843   3473.4045\n",
      "   230.69675  3431.2466   7353.117     237.70215  9600.851   49035.\n",
      " 39624.92     4031.159   36009.246    8159.1304   8063.3623  10803.214\n",
      " 45480.484     422.71985   644.84814   644.84814   301.0434    381.64484\n",
      " 20354.068    8267.26      231.25952  9121.005    2701.7227   5860.5825\n",
      " 19413.078   31950.045    6570.93    11197.912   23401.355    1226.3969\n",
      "   454.54807  8688.398    2193.025    7780.8677  29953.15     6836.3105\n",
      "   614.6729   1701.7203   4247.383    7288.982     231.25952   261.8788\n",
      "  7212.7246  27704.213     251.78036  7193.0156   6435.186     705.4021\n",
      "  7110.984     231.25952 17159.389     422.71985   237.70215 57918.625\n",
      "   261.8788    242.63501 32484.285     431.6066   8758.374   16085.524\n",
      "   242.63501 57577.613    5081.1514  19565.4     11191.002    3749.3213\n",
      "  8221.637   61040.234    8913.681     237.70215  5309.368     237.70215\n",
      " 27822.018     227.18161  6480.311   17924.777     454.54807 16782.172\n",
      "  5450.686   15215.498     589.1515   9971.945   19849.04    26816.912\n",
      "   377.04385  7534.7764   5149.944     705.4021   6606.686   11261.859\n",
      " 29752.502    8757.174     242.63501  6108.534     589.1515   7247.1416\n",
      " 30129.656     379.03027  8861.839     431.6066  65465.082   49074.82\n",
      "   427.5215   5860.5825  10327.851   46687.406   61234.73      454.54807\n",
      "   313.65347  8099.5957    422.71985 50940.426    1730.9585    377.04385\n",
      " 23403.545   19873.064    1701.7203   6836.3105  46885.67    10646.958\n",
      "   422.71985  8467.471   10769.423   38715.92     3918.971    3852.5735\n",
      "  8095.761     381.64484  9507.873    4031.9692   1264.4753  38732.04\n",
      "  9421.493    4012.0137    454.54807  6482.229    8886.83      233.84409\n",
      " 38243.305     315.11462  3707.3623  28639.457   16586.3      3889.2551\n",
      "   315.11462  8772.594   10301.969   20553.621    3670.584   11836.806\n",
      " 39728.652     419.5996    589.1515    301.0434    454.54807   231.25952\n",
      "   982.9227   3488.584    7211.127    1171.0596    422.71985   908.0622\n",
      " 18623.77    11403.037    2571.4673  51843.477   66140.805    6129.664\n",
      "   276.11758  2701.7227  11681.865    6750.078    6386.811     244.26135\n",
      " 22916.994   42847.703    6655.7524    705.4021    766.70654  7741.477\n",
      "  6374.6904  33739.215    4247.383   49354.508    7229.2056  35530.434\n",
      "  6514.853     422.71985   233.84409   251.78036 20687.152    7928.81\n",
      "   315.11462   315.11462  9922.675   25824.729   10826.6875   9944.81\n",
      " 17623.844   19413.75      381.64484 39402.492   22381.262    3707.3623\n",
      "  8647.469   17710.16      377.04385   459.3782  33062.74     6645.3267\n",
      " 20081.031    6645.3267  20244.975   31792.78      422.71985   511.6991\n",
      "  3673.8665    227.18161  4589.0576  38978.11      377.04385 11317.697\n",
      "  9301.309   11825.305     244.26135 10354.875    9969.857     705.4021\n",
      " 10216.057     244.26135  7756.776     276.11758  6561.4814  17052.234\n",
      "   349.91882   607.609   44069.996   48956.52    39732.39    38622.754\n",
      " 42164.797    8037.531    1149.028    7305.395    2736.9773  46106.38\n",
      "  3670.584     230.69675  4691.2617    261.8788  34682.29     8834.935\n",
      "   614.6729    242.63501  1061.9567   6645.3267  18347.84      907.773\n",
      "  9656.323   19274.725   27833.979    8004.435     377.04385   237.70215\n",
      " 19709.021   32874.527   27544.203   47120.06     7729.1787  20758.191\n",
      "  2366.8843    427.5215   2789.3596  14371.036   56323.45      607.609\n",
      "  8743.288    5193.6177  35371.7       231.25952   227.18161  7098.619\n",
      " 47241.055     589.1515   9680.648   57918.625    9500.547     644.84814\n",
      "  6465.5767   5297.4707   8224.616   28273.809    9948.752    4031.9692\n",
      " 10085.317    7159.232     422.71985 11367.63      313.10117 27953.615\n",
      "   233.84409  7432.1416   6489.2695   3666.8115    242.63501  7207.3716\n",
      "   242.63501 19429.77     5241.27      355.42337  5277.7017  28195.035\n",
      " 11329.826   10007.485   19273.898   18140.64     5871.6245  61592.887\n",
      " 44272.336    8164.071    5280.665    2701.7227    614.6729  38776.633\n",
      "   301.0434    589.1515    614.6729  40120.938   43941.168   11508.543\n",
      " 10383.509    9526.4       244.26135 41060.61     6996.338   10515.719\n",
      "  4093.2583   2550.403    4694.7866  23835.586     377.04385 17170.826\n",
      "  1288.0221   6435.186    8164.199   49806.316   24647.012     230.69675\n",
      "   787.7722    614.6729    705.4021  19296.045    1061.9567   7241.9116\n",
      " 23411.06      261.8788   9150.549    8934.713   18938.242    1171.0596\n",
      " 16197.216    3404.113   20246.225   27361.527     276.11758 11102.441\n",
      "   276.11758]\n"
     ]
    }
   ],
   "source": [
    "pred = model.predict(X_Test)\n",
    "\n",
    "print(pred)"
   ]
  },
  {
   "cell_type": "code",
   "execution_count": 28,
   "metadata": {},
   "outputs": [],
   "source": [
    "accuracy = model.score(X_Test, Y_Test)"
   ]
  },
  {
   "cell_type": "code",
   "execution_count": 29,
   "metadata": {},
   "outputs": [
    {
     "data": {
      "text/plain": [
       "0.9969995114419002"
      ]
     },
     "execution_count": 29,
     "metadata": {},
     "output_type": "execute_result"
    }
   ],
   "source": [
    "accuracy"
   ]
  },
  {
   "cell_type": "code",
   "execution_count": 30,
   "metadata": {},
   "outputs": [
    {
     "data": {
      "image/png": "[encoded data removed]",
      "text/plain": [
       "<Figure size 640x480 with 1 Axes>"
      ]
     },
     "metadata": {},
     "output_type": "display_data"
    }
   ],
   "source": [
    "plt.plot(data[\"Close\"], label = f\"Actual {crypto} Price\", color=\"black\")\n",
    "plt.scatter(Y_Test.index, pred, label = f\"Predicted {crypto} Price\", color=\"green\", linewidths=1)\n",
    "plt.title(f\"{crypto} Share Price\")\n",
    "plt.xlabel(\"Time\")\n",
    "plt.ylabel(f\"{crypto} Share Price ($)\")\n",
    "plt.legend()\n",
    "plt.show()"
   ]
  },
  {
   "cell_type": "code",
   "execution_count": 31,
   "metadata": {},
   "outputs": [],
   "source": [
    "last_date = data.iloc[-1:]"
   ]
  },
  {
   "cell_type": "code",
   "execution_count": 32,
   "metadata": {},
   "outputs": [
    {
     "data": {
      "text/html": [
       "<div>\n",
       "<style scoped>\n",
       "    .dataframe tbody tr th:only-of-type {\n",
       "        vertical-align: middle;\n",
       "    }\n",
       "\n",
       "    .dataframe tbody tr th {\n",
       "        vertical-align: top;\n",
       "    }\n",
       "\n",
       "    .dataframe thead th {\n",
       "        text-align: right;\n",
       "    }\n",
       "</style>\n",
       "<table border=\"1\" class=\"dataframe\">\n",
       "  <thead>\n",
       "    <tr style=\"text-align: right;\">\n",
       "      <th></th>\n",
       "      <th>Open</th>\n",
       "      <th>High</th>\n",
       "      <th>Low</th>\n",
       "      <th>Close</th>\n",
       "      <th>Adj Close</th>\n",
       "      <th>Volume</th>\n",
       "    </tr>\n",
       "    <tr>\n",
       "      <th>Date</th>\n",
       "      <th></th>\n",
       "      <th></th>\n",
       "      <th></th>\n",
       "      <th></th>\n",
       "      <th></th>\n",
       "      <th></th>\n",
       "    </tr>\n",
       "  </thead>\n",
       "  <tbody>\n",
       "    <tr>\n",
       "      <th>2023-06-05</th>\n",
       "      <td>27123.109375</td>\n",
       "      <td>27129.982422</td>\n",
       "      <td>25445.167969</td>\n",
       "      <td>25760.097656</td>\n",
       "      <td>25760.097656</td>\n",
       "      <td>21513292646</td>\n",
       "    </tr>\n",
       "  </tbody>\n",
       "</table>\n",
       "</div>"
      ],
      "text/plain": [
       "                    Open          High           Low         Close  \\\n",
       "Date                                                                 \n",
       "2023-06-05  27123.109375  27129.982422  25445.167969  25760.097656   \n",
       "\n",
       "               Adj Close       Volume  \n",
       "Date                                   \n",
       "2023-06-05  25760.097656  21513292646  "
      ]
     },
     "execution_count": 32,
     "metadata": {},
     "output_type": "execute_result"
    }
   ],
   "source": [
    "last_date"
   ]
  },
  {
   "cell_type": "code",
   "execution_count": 33,
   "metadata": {},
   "outputs": [],
   "source": [
    "real_pred = ct.transform(last_date[X])"
   ]
  },
  {
   "cell_type": "code",
   "execution_count": 34,
   "metadata": {},
   "outputs": [
    {
     "data": {
      "text/plain": [
       "array([26224.838], dtype=float32)"
      ]
     },
     "execution_count": 34,
     "metadata": {},
     "output_type": "execute_result"
    }
   ],
   "source": [
    "model.predict(real_pred)"
   ]
  },
  {
   "cell_type": "code",
   "execution_count": 35,
   "metadata": {},
   "outputs": [],
   "source": [
    "import pickle as pkl\n",
    "\n",
    "pkl.dump(model, open(f\"{crypto}_lr_model.pkl\", \"wb\"))"
   ]
  },
  {
   "cell_type": "code",
   "execution_count": 36,
   "metadata": {},
   "outputs": [],
   "source": [
    "pkl.dump(ct, open(f\"{crypto}_lr_scaler.pkl\", \"wb\"))"
   ]
  }
 ],
 "metadata": {
  "kernelspec": {
   "display_name": "Python 3",
   "language": "python",
   "name": "python3"
  },
  "language_info": {
   "codemirror_mode": {
    "name": "ipython",
    "version": 3
   },
   "file_extension": ".py",
   "mimetype": "text/x-python",
   "name": "python",
   "nbconvert_exporter": "python",
   "pygments_lexer": "ipython3",
   "version": "3.10.9"
  },
  "orig_nbformat": 4
 },
 "nbformat": 4,
 "nbformat_minor": 2
}
